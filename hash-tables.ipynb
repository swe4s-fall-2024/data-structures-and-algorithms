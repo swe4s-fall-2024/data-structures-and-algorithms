{
 "cells": [
  {
   "cell_type": "markdown",
   "metadata": {},
   "source": [
    "# Imports"
   ]
  },
  {
   "cell_type": "code",
   "execution_count": 19,
   "metadata": {},
   "outputs": [],
   "source": [
    "from pathlib import Path\n",
    "import os\n",
    "from plot_utils import set_title_axes_labels, fig_setup, finalize\n",
    "import numpy as np\n",
    "import matplotlib.pyplot as plt\n",
    "import random\n",
    "\n",
    "DATA_DIR = Path(os.getcwd()) / \"data\""
   ]
  },
  {
   "cell_type": "markdown",
   "metadata": {},
   "source": [
    "# Unicode -- character-to-integer encoding"
   ]
  },
  {
   "cell_type": "code",
   "execution_count": 7,
   "metadata": {},
   "outputs": [
    {
     "name": "stdout",
     "output_type": "stream",
     "text": [
      "Unicode value of 'c': 99\n",
      "Unicode value of '1': 49\n"
     ]
    }
   ],
   "source": [
    "print(f\"Unicode value of 'c': {ord('c')}\")\n",
    "print(f\"Unicode value of '1': {ord('1')}\")"
   ]
  },
  {
   "cell_type": "markdown",
   "metadata": {},
   "source": [
    "# Hashing functions\n",
    "\n",
    "- [`ord()` documentation](https://docs.python.org/3/library/functions.html#ord)\n",
    "- [`hash()` documentation](https://docs.python.org/3/library/functions.html#hash)"
   ]
  },
  {
   "cell_type": "code",
   "execution_count": 8,
   "metadata": {},
   "outputs": [],
   "source": [
    "def unicode_sum_hash(key, N):\n",
    "    s = 0\n",
    "    for i in range(len(key)):\n",
    "        # ord(c) gets corresponding Unicode integer of character c \n",
    "        s += ord(key[i])\n",
    "    return s % N\n",
    "\n",
    "def polynomial_rolling_hash(key, N, p=53, m=2**64):\n",
    "    \"\"\"\n",
    "    Guidelines: \n",
    "    - set p to be a prime number roughly equal to the number of \n",
    "        characters in the input alphabet\n",
    "    - set m quite large number, since the probability of two random \n",
    "        strings colliding is about 1/m. Sometimes m=2^64 is chosen\n",
    "    \"\"\"\n",
    "    s = 0\n",
    "    for i in range(len(key)):\n",
    "        s += ord(key[i]) * p**i\n",
    "    s = s % m\n",
    "    return s % N \n",
    "\n",
    "def python_hash(key, N):\n",
    "    return hash(key) % N"
   ]
  },
  {
   "cell_type": "markdown",
   "metadata": {},
   "source": [
    "## Hash function uniformity\n",
    "\n",
    "TO DO"
   ]
  },
  {
   "cell_type": "markdown",
   "metadata": {},
   "source": [
    "# Hash tables"
   ]
  },
  {
   "cell_type": "code",
   "execution_count": null,
   "metadata": {},
   "outputs": [
    {
     "name": "stdout",
     "output_type": "stream",
     "text": [
      "None\n",
      "1\n"
     ]
    }
   ],
   "source": [
    "class KeyValue:\n",
    "    def __init__(self, key, value):\n",
    "        self.key = key\n",
    "        self.value = value\n",
    "\n",
    "class Node:\n",
    "    def __init__(self, data):\n",
    "        self.data = data\n",
    "        self.next = None\n",
    "\n",
    "\n",
    "class LinkedList:\n",
    "    def __init__(self):\n",
    "        self.head = None\n",
    "\n",
    "    def insert_node_at_beginning(self, new_data):\n",
    "        \"\"\" \n",
    "        Insert a new node at the beginning of the linked list\n",
    "        \"\"\"\n",
    "        # Make new node point to what was head\n",
    "        new_node = Node(data=new_data)\n",
    "        new_node.next = self.head\n",
    "\n",
    "        # Update what is head\n",
    "        self.head = new_node\n",
    "        \n",
    "\n",
    "    def search(self, query_data):\n",
    "        \"\"\" \n",
    "        Determine if there's a node in the linked list whose data == query_data.\n",
    "        Return True if there is such a node and False otherwise\n",
    "        \"\"\"\n",
    "        # TODO\n",
    "        pass\n",
    "\n",
    "\n",
    "class ChainHashTable:\n",
    "    \"\"\"Hash table with linked list chaining to handle collisions\"\"\"\n",
    "    def __init__(self, N, hash_fcn):\n",
    "        self.hash_fcn = hash_fcn\n",
    "        self.N = N\n",
    "        self.array = [ LinkedList() for i in range(N) ]\n",
    "        self.num_added_keys = 0\n",
    "\n",
    "    def insert(self, key, value):\n",
    "        \"\"\"\n",
    "        Insert (key, value) pair into hash table\n",
    "        \"\"\"\n",
    "        hash_idx = self.hash_fcn(key, self.N)\n",
    "\n",
    "        self.array[hash_idx].insert_node_at_beginning(\n",
    "            new_data=KeyValue(key=key, value=value)\n",
    "        )\n",
    "        self.num_added_keys += 1\n",
    "\n",
    "    def get(self, key):\n",
    "        \"\"\" \n",
    "        Given a key, get the corresponding (key, value) pair if it exists\n",
    "        \"\"\"\n",
    "        hash_idx = self.hash_fcn(key, self.N)\n",
    "        \n",
    "        # Handle empty linked list\n",
    "        head = self.array[hash_idx].head\n",
    "        if head is None:\n",
    "            return None\n",
    "        \n",
    "        # Hanle non-empty linked list\n",
    "        curr_node = head\n",
    "        if curr_node.data.key == key:\n",
    "            return curr_node.data.value\n",
    "        \n",
    "        while curr_node.next is not None:\n",
    "            if curr_node.data.key == key:\n",
    "                return curr_node.data.value\n",
    "            curr_node = curr_node.next\n",
    "\n",
    "        return None\n",
    "\n",
    "ht = ChainHashTable(N=1000, hash_fcn=polynomial_rolling_hash)\n",
    "ht.insert(key=\"a\", value=1)\n",
    "print(ht.get(\"b\"))\n",
    "print(ht.get(\"a\"))"
   ]
  }
 ],
 "metadata": {
  "kernelspec": {
   "display_name": "hypedsearch",
   "language": "python",
   "name": "python3"
  },
  "language_info": {
   "codemirror_mode": {
    "name": "ipython",
    "version": 3
   },
   "file_extension": ".py",
   "mimetype": "text/x-python",
   "name": "python",
   "nbconvert_exporter": "python",
   "pygments_lexer": "ipython3",
   "version": "3.11.10"
  }
 },
 "nbformat": 4,
 "nbformat_minor": 2
}
