{
 "cells": [
  {
   "cell_type": "markdown",
   "metadata": {},
   "source": [
    "# Imports"
   ]
  },
  {
   "cell_type": "code",
   "execution_count": null,
   "metadata": {},
   "outputs": [],
   "source": [
    "from pathlib import Path\n",
    "import os\n",
    "from plot_utils import set_title_axes_labels, fig_setup, finalize\n",
    "import numpy as np\n",
    "import matplotlib.pyplot as plt\n",
    "import random\n",
    "\n",
    "DATA_DIR = Path(os.getcwd()) / \"data\""
   ]
  },
  {
   "cell_type": "markdown",
   "metadata": {},
   "source": [
    "# Unicode -- character-to-integer encoding"
   ]
  },
  {
   "cell_type": "code",
   "execution_count": null,
   "metadata": {},
   "outputs": [],
   "source": [
    "print(f\"Unicode value of 'c': {ord('c')}\")\n",
    "print(f\"Unicode value of '1': {ord('1')}\")"
   ]
  },
  {
   "cell_type": "markdown",
   "metadata": {},
   "source": [
    "# Hashing functions\n",
    "\n",
    "- [`ord()` documentation](https://docs.python.org/3/library/functions.html#ord)\n",
    "- [`hash()` documentation](https://docs.python.org/3/library/functions.html#hash)"
   ]
  },
  {
   "cell_type": "code",
   "execution_count": null,
   "metadata": {},
   "outputs": [],
   "source": [
    "def unicode_sum_hash(key, N):\n",
    "    s = 0\n",
    "    for i in range(len(key)):\n",
    "        # ord(c) gets corresponding Unicode integer of character c \n",
    "        s += ord(key[i])\n",
    "    return s % N\n",
    "\n",
    "def polynomial_rolling_hash(key, N, p=53, m=2**64):\n",
    "    \"\"\"\n",
    "    Guidelines: \n",
    "    - set p to be a prime number roughly equal to the number of \n",
    "        characters in the input alphabet\n",
    "    - set m quite large number, since the probability of two random \n",
    "        strings colliding is about 1/m. Sometimes m=2^64 is chosen\n",
    "    \"\"\"\n",
    "    s = 0\n",
    "    for i in range(len(key)):\n",
    "        s += ord(key[i]) * p**i\n",
    "    s = s % m\n",
    "    return s % N \n",
    "\n",
    "def python_hash(key, N):\n",
    "    return hash(key) % N"
   ]
  },
  {
   "cell_type": "markdown",
   "metadata": {},
   "source": [
    "## Hash function uniformity\n",
    "\n",
    "TO DO"
   ]
  },
  {
   "cell_type": "markdown",
   "metadata": {},
   "source": [
    "# Hash tables"
   ]
  },
  {
   "cell_type": "code",
   "execution_count": null,
   "metadata": {},
   "outputs": [
    {
     "data": {
      "text/plain": [
       "5"
      ]
     },
     "execution_count": 28,
     "metadata": {},
     "output_type": "execute_result"
    },
    {
     "data": {
      "text/plain": [
       "5"
      ]
     },
     "execution_count": 28,
     "metadata": {},
     "output_type": "execute_result"
    },
    {
     "data": {
      "text/plain": [
       "1"
      ]
     },
     "execution_count": 28,
     "metadata": {},
     "output_type": "execute_result"
    },
    {
     "name": "stdout",
     "output_type": "stream",
     "text": [
      "Inserting key: Ron; value: Burgandy at index 5\n",
      "Inserting key: Penstemon; value: Buttersworth at index 5\n",
      "Inserting key: Lilac; value: Cornelius at index 1\n"
     ]
    },
    {
     "data": {
      "text/plain": [
       "key: Lilac; value: Cornelius"
      ]
     },
     "execution_count": 28,
     "metadata": {},
     "output_type": "execute_result"
    },
    {
     "data": {
      "text/plain": [
       "key: Penstemon; value: Buttersworth"
      ]
     },
     "execution_count": 28,
     "metadata": {},
     "output_type": "execute_result"
    },
    {
     "data": {
      "text/plain": [
       "key: Ron; value: Burgandy"
      ]
     },
     "execution_count": 28,
     "metadata": {},
     "output_type": "execute_result"
    },
    {
     "data": {
      "text/plain": [
       "'Burgandy'"
      ]
     },
     "execution_count": 28,
     "metadata": {},
     "output_type": "execute_result"
    },
    {
     "ename": "KeyError",
     "evalue": "\"key='Florence' doesn't exist in chained hash table\"",
     "output_type": "error",
     "traceback": [
      "\u001b[0;31m---------------------------------------------------------------------------\u001b[0m",
      "\u001b[0;31mKeyError\u001b[0m                                  Traceback (most recent call last)",
      "Cell \u001b[0;32mIn[28], line 81\u001b[0m\n\u001b[1;32m     78\u001b[0m cht\u001b[38;5;241m.\u001b[39marray[\u001b[38;5;241m5\u001b[39m]\u001b[38;5;241m.\u001b[39mhead\u001b[38;5;241m.\u001b[39mnext\u001b[38;5;241m.\u001b[39mdata\n\u001b[1;32m     80\u001b[0m cht\u001b[38;5;241m.\u001b[39mget(key\u001b[38;5;241m=\u001b[39m\u001b[38;5;124m\"\u001b[39m\u001b[38;5;124mRon\u001b[39m\u001b[38;5;124m\"\u001b[39m)\n\u001b[0;32m---> 81\u001b[0m \u001b[43mcht\u001b[49m\u001b[38;5;241;43m.\u001b[39;49m\u001b[43mget\u001b[49m\u001b[43m(\u001b[49m\u001b[43mkey\u001b[49m\u001b[38;5;241;43m=\u001b[39;49m\u001b[38;5;124;43m\"\u001b[39;49m\u001b[38;5;124;43mFlorence\u001b[39;49m\u001b[38;5;124;43m\"\u001b[39;49m\u001b[43m)\u001b[49m\n",
      "Cell \u001b[0;32mIn[28], line 61\u001b[0m, in \u001b[0;36mChainedHashTable.get\u001b[0;34m(self, key)\u001b[0m\n\u001b[1;32m     59\u001b[0m         \u001b[38;5;28;01mreturn\u001b[39;00m curr_node\u001b[38;5;241m.\u001b[39mdata\u001b[38;5;241m.\u001b[39mvalue\n\u001b[1;32m     60\u001b[0m     curr_node \u001b[38;5;241m=\u001b[39m curr_node\u001b[38;5;241m.\u001b[39mnext\n\u001b[0;32m---> 61\u001b[0m \u001b[38;5;28;01mraise\u001b[39;00m \u001b[38;5;167;01mKeyError\u001b[39;00m(\u001b[38;5;124mf\u001b[39m\u001b[38;5;124m\"\u001b[39m\u001b[38;5;124mkey=\u001b[39m\u001b[38;5;124m'\u001b[39m\u001b[38;5;132;01m{\u001b[39;00mkey\u001b[38;5;132;01m}\u001b[39;00m\u001b[38;5;124m'\u001b[39m\u001b[38;5;124m doesn\u001b[39m\u001b[38;5;124m'\u001b[39m\u001b[38;5;124mt exist in chained hash table\u001b[39m\u001b[38;5;124m\"\u001b[39m)\n",
      "\u001b[0;31mKeyError\u001b[0m: \"key='Florence' doesn't exist in chained hash table\""
     ]
    }
   ],
   "source": [
    "class KeyValue:\n",
    "    def __init__(self, key, value):\n",
    "        self.key = key\n",
    "        self.value = value\n",
    "    def __repr__(self):\n",
    "        return f\"key: {self.key}; value: {self.value}\"\n",
    "\n",
    "class Node:\n",
    "    def __init__(self, data, next=None):\n",
    "        self.data = data\n",
    "        self.next = None\n",
    "\n",
    "\n",
    "class LinkedList:\n",
    "    def __init__(self):\n",
    "        self.head = None\n",
    "\n",
    "    def insert_node_at_beginning(self, new_data):\n",
    "        \"\"\" \n",
    "        Insert a new node at the beginning of the linked list\n",
    "        \"\"\"\n",
    "        # Make new node point to what was HEAD\n",
    "        new_node = Node(data=new_data)\n",
    "        new_node.next = self.head\n",
    "\n",
    "        # Update HEAD to new node\n",
    "        self.head = new_node\n",
    "\n",
    "class ChainedHashTable:\n",
    "    \"\"\"Hash table with linked list chaining to handle collisions\"\"\"\n",
    "    def __init__(self, N, hash_fcn):\n",
    "        self.hash_fcn = hash_fcn\n",
    "        self.N = N\n",
    "        self.array = [ LinkedList() for i in range(N) ]\n",
    "        self.num_added_keys = 0\n",
    "\n",
    "    def insert(self, key, value):\n",
    "        \"\"\"\n",
    "        Insert (key, value) pair into hash table\n",
    "        \"\"\"\n",
    "        new_data = KeyValue(key=key, value=value)\n",
    "        hash_val = self.hash_fcn(key=key, N=self.N)\n",
    "        print(f\"Inserting {new_data} at index {hash_val}\")\n",
    "        self.array[hash_val].insert_node_at_beginning(new_data=new_data)\n",
    "        \n",
    "    def get(self, key):\n",
    "        \"\"\" \n",
    "        Given a key, get the corresponding value if the key exists. Raise an \n",
    "        error if the key doesn't exist\n",
    "        \"\"\"\n",
    "        # Get the array's linked list at the hash value of the key\n",
    "        hash_val = self.hash_fcn(key=key, N=self.N)\n",
    "        linked_list = self.array[hash_val]\n",
    "\n",
    "        # Determine if the linked list contains a node with data.key == key\n",
    "        curr_node = linked_list.head\n",
    "        while curr_node is not None:\n",
    "            if curr_node.data.key == key:\n",
    "                return curr_node.data.value\n",
    "            curr_node = curr_node.next\n",
    "        raise KeyError(f\"key='{key}' doesn't exist in chained hash table\")\n",
    "\n",
    "\n",
    "N = 10\n",
    "hash_fcn = polynomial_rolling_hash\n",
    "cht = ChainedHashTable(N=N, hash_fcn=hash_fcn)\n",
    "\n",
    "hash_fcn(key=\"Ron\", N=10)\n",
    "hash_fcn(key=\"Penstemon\", N=10)\n",
    "hash_fcn(key=\"Lilac\", N=10)\n",
    "\n",
    "# cht.insert(key=\"Ron\", value=\"Burgandy\")\n",
    "# cht.insert(key=\"Penstemon\", value=\"Buttersworth\")\n",
    "# cht.insert(key=\"Lilac\", value=\"Cornelius\")\n",
    "\n",
    "# cht.array[1].head.data\n",
    "# cht.array[5].head.data\n",
    "# cht.array[5].head.next.data\n",
    "\n",
    "# cht.get(key=\"Ron\")\n",
    "# cht.get(key=\"Florence\")"
   ]
  }
 ],
 "metadata": {
  "kernelspec": {
   "display_name": "hypedsearch",
   "language": "python",
   "name": "python3"
  },
  "language_info": {
   "codemirror_mode": {
    "name": "ipython",
    "version": 3
   },
   "file_extension": ".py",
   "mimetype": "text/x-python",
   "name": "python",
   "nbconvert_exporter": "python",
   "pygments_lexer": "ipython3",
   "version": "3.11.10"
  }
 },
 "nbformat": 4,
 "nbformat_minor": 2
}
